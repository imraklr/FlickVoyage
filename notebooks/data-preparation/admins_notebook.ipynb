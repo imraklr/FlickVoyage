{
 "cells": [
  {
   "cell_type": "code",
   "execution_count": null,
   "metadata": {},
   "outputs": [],
   "source": [
    "import pandas as pd"
   ]
  },
  {
   "cell_type": "code",
   "execution_count": null,
   "metadata": {},
   "outputs": [],
   "source": [
    "df = pd.read_csv('datasets/data_set.csv')"
   ]
  },
  {
   "cell_type": "markdown",
   "metadata": {},
   "source": [
    "# <font color=\"#5C372C\">Data Pre-Processing</font>"
   ]
  },
  {
   "cell_type": "code",
   "execution_count": null,
   "metadata": {},
   "outputs": [],
   "source": [
    "df.head(2)"
   ]
  },
  {
   "cell_type": "code",
   "execution_count": null,
   "metadata": {},
   "outputs": [],
   "source": [
    "df.isna()"
   ]
  },
  {
   "cell_type": "code",
   "execution_count": null,
   "metadata": {},
   "outputs": [],
   "source": [
    "df.isna().count()"
   ]
  },
  {
   "cell_type": "markdown",
   "metadata": {},
   "source": [
    "<font color=orange>The data has no null entry.</font>"
   ]
  },
  {
   "cell_type": "markdown",
   "metadata": {},
   "source": [
    "### Data Filtering"
   ]
  },
  {
   "cell_type": "code",
   "execution_count": null,
   "metadata": {},
   "outputs": [],
   "source": [
    "df.head(2)"
   ]
  },
  {
   "cell_type": "markdown",
   "metadata": {},
   "source": [
    "##### <font color=red>Check for unique backdrop_path</font>"
   ]
  },
  {
   "cell_type": "code",
   "execution_count": null,
   "metadata": {},
   "outputs": [],
   "source": [
    "df['backdrop_path'].nunique()"
   ]
  },
  {
   "cell_type": "markdown",
   "metadata": {},
   "source": [
    "##### <font color=red>There is only one(1) unique backdrop_path for every movie so removing this column is necessary.</font>"
   ]
  },
  {
   "cell_type": "code",
   "execution_count": null,
   "metadata": {},
   "outputs": [],
   "source": [
    "df = df.drop('backdrop_path', axis=1)"
   ]
  },
  {
   "cell_type": "markdown",
   "metadata": {},
   "source": [
    "##### <font color=\"red\">Dropping unnecessary columns</font>\n",
    "<table border=\"1\" style = \"\n",
    "                text-align: center;\n",
    "                background-color: #e04b26;\n",
    "                color: white;\n",
    "\">\n",
    "  <tr>\n",
    "    <th>Columns to be dropped</th>\n",
    "    <th>Reasons</th>\n",
    "  </tr>\n",
    "  <tr>\n",
    "    <td>'Unnamed: 0'</td>\n",
    "    <td>Because that is just indexing from the raw CSV file.</td>\n",
    "  </tr>\n",
    "  <tr>\n",
    "    <td>'crew'</td>\n",
    "    <td>Because viewers' major focus is on the cast, the actors involved in the movie. So it is reasonable to drop the 'crew' column.</td>\n",
    "  </tr>\n",
    "  <tr>\n",
    "    <td>'title'</td>\n",
    "    <td>Because in almost every case, original_title is equal to the title in the dataframe.</td>\n",
    "  </tr>\n",
    "  <tr>\n",
    "    <td>'video'</td>\n",
    "    <td>Because it does not matter whether there is a video/trailer for the a particular movie(row).</td>\n",
    "  </tr>\n",
    "</table>\n"
   ]
  },
  {
   "cell_type": "code",
   "execution_count": null,
   "metadata": {},
   "outputs": [],
   "source": [
    "df = df.drop(['Unnamed: 0', 'id', 'video', 'crew', 'title'], axis=1)\n",
    "# Introduce a row_id column\n",
    "row_id = [x for x in range(0, df.shape[0])]\n",
    "df['row_id'] = row_id"
   ]
  },
  {
   "cell_type": "markdown",
   "metadata": {},
   "source": [
    "##### <font color=orange>It is better to rename some columns to reflect its usage in the database.</font>\n",
    "<table border=\"1\" style = \"\n",
    "                text-align: center;\n",
    "                background-color: #e38622;\n",
    "                color: white;\n",
    "\">\n",
    "  <tr>\n",
    "    <th>Columns to be renamed (from)</th>\n",
    "    <th>Renamed value (to)</th>\n",
    "  </tr>\n",
    "  <tr>\n",
    "    <td>'genre_ids'</td>\n",
    "    <td>genres</td>\n",
    "  </tr>\n",
    "  <tr>\n",
    "    <td>'original_language'</td>\n",
    "    <td>language</td>\n",
    "  </tr>\n",
    "  <tr>\n",
    "    <td>'original_title'</td>\n",
    "    <td>title</td>\n",
    "  </tr>\n",
    "  <tr>\n",
    "    <td>'release_date' (performed in the next to next cell)</td>\n",
    "    <td>release_year</td>\n",
    "  </tr>\n",
    "</table>\n"
   ]
  },
  {
   "cell_type": "code",
   "execution_count": null,
   "metadata": {},
   "outputs": [],
   "source": [
    "df = df.rename(columns={'genre_ids': 'genres', 'original_language': 'language', 'original_title': 'title'})"
   ]
  },
  {
   "cell_type": "code",
   "execution_count": null,
   "metadata": {},
   "outputs": [],
   "source": [
    "# Convert 'release_date' to datetime and extract year\n",
    "df['release_year'] = pd.to_datetime(df['release_date']).dt.year\n",
    "\n",
    "# Drop the original 'release_date' column\n",
    "df.drop(columns=['release_date'], inplace=True)"
   ]
  },
  {
   "cell_type": "markdown",
   "metadata": {},
   "source": [
    "# <font color=\"#5C372C\">Segregation</font>"
   ]
  },
  {
   "cell_type": "markdown",
   "metadata": {},
   "source": [
    "## Format 'genres' and 'keywords' Series for the DataFrame(df)"
   ]
  },
  {
   "cell_type": "code",
   "execution_count": null,
   "metadata": {},
   "outputs": [],
   "source": [
    "genre_comma_separated_string = df['genres']"
   ]
  },
  {
   "cell_type": "code",
   "execution_count": null,
   "metadata": {},
   "outputs": [],
   "source": [
    "import re\n",
    "\n",
    "def clean_string(text):\n",
    "    return text.replace('[', '').replace(']', '').replace(\"'\", '')\n",
    "\n",
    "# Apply the function to each element in the Series\n",
    "genre_comma_separated_string = genre_comma_separated_string.apply(clean_string)"
   ]
  },
  {
   "cell_type": "code",
   "execution_count": null,
   "metadata": {},
   "outputs": [],
   "source": [
    "genre_comma_separated_string_df = pd.DataFrame(genre_comma_separated_string)\n",
    "genre_comma_separated_string_df"
   ]
  },
  {
   "cell_type": "markdown",
   "metadata": {},
   "source": [
    "##### Replace the genres and keywords list format in the data frame with genres string"
   ]
  },
  {
   "cell_type": "code",
   "execution_count": null,
   "metadata": {},
   "outputs": [],
   "source": [
    "df['genres'] = genre_comma_separated_string_df"
   ]
  },
  {
   "cell_type": "markdown",
   "metadata": {},
   "source": [
    "## Generate 'keywords' dataset. Keywords column contains only keywords and not there associated IDs as it was provided in the original Dataset."
   ]
  },
  {
   "cell_type": "code",
   "execution_count": null,
   "metadata": {},
   "outputs": [],
   "source": [
    "df.head(2)"
   ]
  },
  {
   "cell_type": "code",
   "execution_count": null,
   "metadata": {},
   "outputs": [],
   "source": [
    "import re\n",
    "\n",
    "keywords_column = []\n",
    "keywords_ids = []\n",
    "id_name_mappings = []\n",
    "\n",
    "def getMappings(list_of_json_array_in_string):\n",
    "    # The JSON pattern which wil extract the JSON elements from a string of combined JSONs\n",
    "    json_pattern = r'\\{[^{}]+\\}'\n",
    "    for json_array_in_string in list_of_json_array_in_string:\n",
    "        list_of_json_elements_in_string = re.findall(json_pattern, json_array_in_string)\n",
    "        # set an empty list\n",
    "        keywords_ids = []\n",
    "        # Generate id->name mappings\n",
    "        for s in list_of_json_elements_in_string:\n",
    "            id_name_mappings.append(\n",
    "                {'id': int(s[7:s.find(',')]), 'name': s[s.find(',')+11:-2]}\n",
    "            )\n",
    "            keywords_ids.append(s[s.find(',')+11:-2])\n",
    "        keywords_column.append(keywords_ids[:-2])"
   ]
  },
  {
   "cell_type": "code",
   "execution_count": null,
   "metadata": {},
   "outputs": [],
   "source": [
    "l_df_k = df['keywords'].to_list() # array of id's and names for the keywords dataset"
   ]
  },
  {
   "cell_type": "code",
   "execution_count": null,
   "metadata": {},
   "outputs": [],
   "source": [
    "# Convert the list of JSON array to dict\n",
    "getMappings(l_df_k)"
   ]
  },
  {
   "cell_type": "code",
   "execution_count": null,
   "metadata": {},
   "outputs": [],
   "source": [
    "id_name_mappings[3]"
   ]
  },
  {
   "cell_type": "markdown",
   "metadata": {},
   "source": [
    "### <font color=teal>Set the keywords column(Mandatory)</br>Generate Dataframe and Export CSV(Optional for maintaining multiple tables)</font>"
   ]
  },
  {
   "cell_type": "code",
   "execution_count": null,
   "metadata": {},
   "outputs": [],
   "source": [
    "df['keywords'] = keywords_column\n",
    "keywords_dataframe = pd.DataFrame(id_name_mappings)\n",
    "keywords_dataframe.columns = ['id', 'name']\n",
    "# Export(Optional)\n",
    "keywords_dataframe.to_csv('keywords_dataset.csv', index=False)"
   ]
  },
  {
   "cell_type": "markdown",
   "metadata": {},
   "source": [
    "## Generate cast dataset."
   ]
  },
  {
   "cell_type": "code",
   "execution_count": null,
   "metadata": {},
   "outputs": [],
   "source": [
    "df.head(2)"
   ]
  },
  {
   "cell_type": "code",
   "execution_count": null,
   "metadata": {},
   "outputs": [],
   "source": [
    "def getFilteredCastText(t):\n",
    "    return t[t.find(\"'known_for_department'\"):t.find(\", 'popularity\")] +\", \" + t[t.find(\"'character'\"):t.find(\", 'credit_id'\")]\n",
    "\n",
    "# demonstration of what getFileteredCastText can do\n",
    "getFilteredCastText(df['cast'][0]).split(\"'\")"
   ]
  },
  {
   "cell_type": "code",
   "execution_count": null,
   "metadata": {},
   "outputs": [],
   "source": [
    "from pandas import Series\n",
    "import re\n",
    "\n",
    "# Every row has one or more than cast info\n",
    "# 1) Extract the entire cast row as a string\n",
    "# 2) Split the entire string obtained in step 1 to form multiple cast strings (as there can be more than one cast in a movie)\n",
    "# 3) Split each of the cast's string in such a way so to obtain 'known_for_department', 'name', 'original_name' and 'character'\n",
    "# 4) Append all of this info obtained in step 3 to a single dimension list\n",
    "# 5) Append this list to a two dimension list. This two-dimension list indicates the list of vital informations of all the casts in the movie\n",
    "# 6) Append the two dimension list to a third dimension list. This third dimension list contains the two dimension lists of all the casts in a particular movie(row). So the third dimension list is the list \n",
    "# of vital information of all casts of each movie(row).\n",
    "\n",
    "list_movies_casts_info = [] # List of all casts's vital information from each movie(row)\n",
    "\n",
    "def getAllCasts(series: Series):\n",
    "    pattern = r'{[^}]*}'\n",
    "    all_casts = df['cast'].tolist()\n",
    "    # replace all \\' with '\n",
    "    row_id = 0\n",
    "    for casts in all_casts:\n",
    "        casts = casts[1:-1] # Remove the square brackets from start and end\n",
    "        casts = casts.replace(\"\\'\", \"'\")\n",
    "        row_cast_info_list = []\n",
    "        for single_cast in re.findall(pattern, casts):\n",
    "            single_cast_info_dict = dict()\n",
    "            # Get the filtered text\n",
    "            filtered_text = getFilteredCastText(single_cast)\n",
    "            # Extract vital information - known_for_department, name, original name, character\n",
    "            split_info = filtered_text.split(\"'\")\n",
    "            known_for_department = split_info[3]\n",
    "            name = split_info[7]\n",
    "            original_name = split_info[11]\n",
    "            character = split_info[-2]\n",
    "            single_cast_info_dict.update({'row_id': row_id+1})\n",
    "            single_cast_info_dict.update({'known_for_department': known_for_department})\n",
    "            single_cast_info_dict.update({'name': name})\n",
    "            single_cast_info_dict.update({'original_name': original_name})\n",
    "            single_cast_info_dict.update({'character': character})\n",
    "            row_cast_info_list.append(single_cast_info_dict)\n",
    "        list_movies_casts_info.append(row_cast_info_list)\n",
    "        row_id = row_id + 1"
   ]
  },
  {
   "cell_type": "code",
   "execution_count": null,
   "metadata": {},
   "outputs": [],
   "source": [
    "getAllCasts(df['cast'])"
   ]
  },
  {
   "cell_type": "code",
   "execution_count": null,
   "metadata": {},
   "outputs": [],
   "source": [
    "list_movies_casts_info[1]"
   ]
  },
  {
   "cell_type": "markdown",
   "metadata": {},
   "source": [
    "### Set the cast column and export the dataset"
   ]
  },
  {
   "cell_type": "code",
   "execution_count": null,
   "metadata": {},
   "outputs": [],
   "source": [
    "# flattening tool\n",
    "from itertools import chain\n",
    "\n",
    "# We are flattening to store the column in the .csv file (as the data will take raw form) -- Remember that `row_id` is the primary key for the main table\n",
    "flattened_list = list(chain.from_iterable(list_movies_casts_info))\n",
    "df['cast'] = list_movies_casts_info\n",
    "cast_dataframe = pd.DataFrame(flattened_list)\n",
    "cast_dataframe.columns = ['common_row_id', 'known_for_department', 'name', 'original_name', 'character']\n",
    "# Export(Optional)\n",
    "cast_dataframe.to_csv('cast_dataset.csv', index=False)"
   ]
  },
  {
   "cell_type": "code",
   "execution_count": null,
   "metadata": {},
   "outputs": [],
   "source": [
    "df.head(2)"
   ]
  },
  {
   "cell_type": "markdown",
   "metadata": {},
   "source": [
    "## Generate genres dataset."
   ]
  },
  {
   "cell_type": "code",
   "execution_count": null,
   "metadata": {},
   "outputs": [],
   "source": [
    "df.head(1)"
   ]
  },
  {
   "cell_type": "code",
   "execution_count": null,
   "metadata": {},
   "outputs": [],
   "source": [
    "# Split the 'genres' column by commas\n",
    "df['genres'] = df['genres'].str.split(', ')\n",
    "\n",
    "# Create a new DataFrame with duplicate 'c_id' values for each genre\n",
    "genre_list = []\n",
    "for index, row in df.iterrows():\n",
    "    g_id = index+1\n",
    "    genres = row['genres']\n",
    "    for genre in genres:\n",
    "        genre_list.append([g_id, genre])\n",
    "\n",
    "genre_df = pd.DataFrame(genre_list, columns=['g_id', 'genre'])\n",
    "\n",
    "# Reset the index\n",
    "genre_df = genre_df.reset_index(drop=True)"
   ]
  },
  {
   "cell_type": "code",
   "execution_count": null,
   "metadata": {},
   "outputs": [],
   "source": [
    "genre_df"
   ]
  },
  {
   "cell_type": "code",
   "execution_count": null,
   "metadata": {},
   "outputs": [],
   "source": [
    "df"
   ]
  },
  {
   "cell_type": "markdown",
   "metadata": {},
   "source": [
    "# <font color=\"#5C372C\">Analysis</font>"
   ]
  },
  {
   "cell_type": "markdown",
   "metadata": {},
   "source": [
    "## Frequency plot on basis of original_language"
   ]
  },
  {
   "cell_type": "code",
   "execution_count": null,
   "metadata": {},
   "outputs": [],
   "source": [
    "df['language'].unique()"
   ]
  },
  {
   "cell_type": "code",
   "execution_count": null,
   "metadata": {},
   "outputs": [],
   "source": [
    "import matplotlib.pyplot as plt\n",
    "import seaborn as sns"
   ]
  },
  {
   "cell_type": "code",
   "execution_count": null,
   "metadata": {},
   "outputs": [],
   "source": [
    "plt.figure(figsize=(20, 5))\n",
    "plt.hist(df['language'], color='orange', ec='blue')"
   ]
  },
  {
   "cell_type": "markdown",
   "metadata": {},
   "source": [
    "#### <font color=\"#FFE5B4\">Hence maximum movies are either in <em>en</em>, <em>hi</em>, <em>ja</em>, <em>ko</em>, or <em>es</em>.</font>"
   ]
  },
  {
   "cell_type": "markdown",
   "metadata": {},
   "source": [
    "## Frequency plot on basis of adult rated movie"
   ]
  },
  {
   "cell_type": "code",
   "execution_count": null,
   "metadata": {},
   "outputs": [],
   "source": [
    "adult_movies = df['adult']\n",
    "true_count = adult_movies.to_list().count(True)\n",
    "false_count = adult_movies.to_list().count(False)\n",
    "labels = ['True', 'False']\n",
    "counts = [true_count, false_count]"
   ]
  },
  {
   "cell_type": "code",
   "execution_count": null,
   "metadata": {},
   "outputs": [],
   "source": [
    "plt.pie(counts, labels=labels, autopct='%1.1f%%', colors=['red', 'green'])\n",
    "plt.title('True/False Counts')\n",
    "plt.show()\n",
    "\n",
    "(adult_movies == False).count() # Number of adult rated movies"
   ]
  },
  {
   "cell_type": "markdown",
   "metadata": {},
   "source": [
    "#### <font color=\"#FFE5B4\">Hence no movies are adult rated.</font>"
   ]
  },
  {
   "cell_type": "markdown",
   "metadata": {},
   "source": [
    "## Plot of popularity ( numbers )"
   ]
  },
  {
   "cell_type": "code",
   "execution_count": null,
   "metadata": {},
   "outputs": [],
   "source": [
    "plt.plot(df['popularity'])"
   ]
  },
  {
   "cell_type": "markdown",
   "metadata": {},
   "source": [
    "#### So our target is to scale down these to fit on the scale of 100"
   ]
  },
  {
   "cell_type": "code",
   "execution_count": null,
   "metadata": {},
   "outputs": [],
   "source": [
    "# obtain a list of those values\n",
    "pop_list = df['popularity']\n",
    "# get the min and max values from the list\n",
    "min = pop_list.min()\n",
    "max = pop_list.max()"
   ]
  },
  {
   "cell_type": "code",
   "execution_count": null,
   "metadata": {},
   "outputs": [],
   "source": [
    "min, max"
   ]
  },
  {
   "cell_type": "markdown",
   "metadata": {},
   "source": [
    "##### In the following cell we scale the numbers present in the `pop_list` on a scale of 0 to 100\n",
    "##### If [a, b] = [0, 100] and [min(x), max(x)] = [min, max] then the normalized value of x can be computed using formula -\n",
    "##### $ x_{normalized} = \\,{(b - a)}\\frac{(x - min(x))}{max(x) - min(x)} + a $"
   ]
  },
  {
   "cell_type": "code",
   "execution_count": null,
   "metadata": {},
   "outputs": [],
   "source": [
    "pop_list"
   ]
  },
  {
   "cell_type": "code",
   "execution_count": null,
   "metadata": {},
   "outputs": [],
   "source": [
    "r_min = min\n",
    "r_max = max\n",
    "t_min = 0\n",
    "t_max = 100\n",
    "\n",
    "pop_list = [\n",
    "    ((((m - r_min) / (r_max - r_min)) * (t_max - t_min)) + t_min) for m in pop_list\n",
    "]"
   ]
  },
  {
   "cell_type": "code",
   "execution_count": null,
   "metadata": {},
   "outputs": [],
   "source": [
    "pop_list"
   ]
  },
  {
   "cell_type": "markdown",
   "metadata": {},
   "source": [
    "#### Put this list to the popularity column"
   ]
  },
  {
   "cell_type": "code",
   "execution_count": null,
   "metadata": {},
   "outputs": [],
   "source": [
    "df['popularity'] = pop_list"
   ]
  },
  {
   "cell_type": "code",
   "execution_count": null,
   "metadata": {},
   "outputs": [],
   "source": [
    "df.head(2)"
   ]
  },
  {
   "cell_type": "markdown",
   "metadata": {},
   "source": [
    "## Average vote analysis"
   ]
  },
  {
   "cell_type": "code",
   "execution_count": null,
   "metadata": {},
   "outputs": [],
   "source": [
    "import numpy as np\n",
    "l = df['vote_average'].tolist()\n",
    "np.min(l), np.max(l)"
   ]
  },
  {
   "cell_type": "markdown",
   "metadata": {},
   "source": [
    "# Make the variables/functions visible to populate the database using another notebook (populate_database.ipynb)"
   ]
  },
  {
   "cell_type": "code",
   "execution_count": null,
   "metadata": {},
   "outputs": [],
   "source": [
    "%store df\n",
    "%store keywords_column\n",
    "%store list_movies_casts_info\n",
    "%store genre_df"
   ]
  },
  {
   "cell_type": "markdown",
   "metadata": {},
   "source": [
    "# <font color=\"#5C372C\">Conclusion</font>\n",
    "##### To enhance the accuracy of the ratings, average vote can be put on a scale of 10 and newer votes can be adjusted dynamically using scaling algorithms through the main program which accesses the database.\n",
    "##### Hence data-driven decision-making has to be prioritized to determine the appropriate scale for average votes, ensuring a rigorous and reliable evaluation process."
   ]
  },
  {
   "cell_type": "markdown",
   "metadata": {},
   "source": [
    "# <font color=\"#5C372C\">Final DataFrame description</font>\n",
    "<table style = \"\n",
    "                text-align: center;\n",
    "                background-color: #5C372C;\n",
    "                color: #BE9F96;\n",
    "\">\n",
    "    <tr>\n",
    "        <th>adult</th>\n",
    "        <th>genres</th>\n",
    "        <th>language</th>\n",
    "        <th>title</th>\n",
    "        <th>overview</th>\n",
    "        <th>popularity</th>\n",
    "        <th>poster_path</th>\n",
    "        <th>vote_average</th>\n",
    "        <th>vote_count</th>\n",
    "        <th>keywords</th>\n",
    "        <th>cast</th>\n",
    "        <th>row_id</th>\n",
    "        <th>release_year</th>\n",
    "    </tr>\n",
    "    <tr>\n",
    "        <td>Indicates whether the movie is adult rated or not</td>\n",
    "        <td>Collection of one or more genre types</td>\n",
    "        <td>Original Language in which the movie was made</td>\n",
    "        <td>Original Title of the movie</td>\n",
    "        <td>Overview of the movie</td>\n",
    "        <td>Popularity Score of the movie on a scale of 0 to 100</td>\n",
    "        <td>Link to the poster of the movie</td>\n",
    "        <td>Average Vote given by the viewers who have watched/not watched the movie. Average Vote is observed on a scale of 0 to 10</td>\n",
    "        <td>Total Vote count by the viewers who have watched/not watched the movie</td>\n",
    "        <td>The keywords associated with a movie. Viewers can search by keywords. Note that keywords column are not to be used in textual analysis i.e. if user wants to watch a movie and he types his intent/choice/sentence then keywords column is not to be used for analysis. Rather overview should be used</td>\n",
    "        <td>Cast</td>\n",
    "        <td>Primary Key for the main table (0-indexed AUTO INCREMENT)</td>\n",
    "        <td>Release year of the movie</td>\n",
    "    </tr>\n",
    "</table>"
   ]
  }
 ],
 "metadata": {
  "authors": [
   {
    "github": "https://github.com/imraklr",
    "name": "Rakesh Kumar"
   }
  ],
  "kernelspec": {
   "display_name": "Python 3 (ipykernel)",
   "language": "python",
   "name": "python3"
  },
  "language_info": {
   "codemirror_mode": {
    "name": "ipython",
    "version": 3
   },
   "file_extension": ".py",
   "mimetype": "text/x-python",
   "name": "python",
   "nbconvert_exporter": "python",
   "pygments_lexer": "ipython3",
   "version": "3.10.13"
  },
  "title": "Movie Dataset Analysis, filtering and segregation for DBMS project"
 },
 "nbformat": 4,
 "nbformat_minor": 2
}
